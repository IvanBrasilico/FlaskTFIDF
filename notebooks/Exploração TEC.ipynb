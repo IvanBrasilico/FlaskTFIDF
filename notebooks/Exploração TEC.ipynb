{
 "cells": [
  {
   "cell_type": "code",
   "execution_count": 1,
   "metadata": {
    "ExecuteTime": {
     "end_time": "2019-12-12T12:32:32.597176Z",
     "start_time": "2019-12-12T12:32:31.638904Z"
    }
   },
   "outputs": [
    {
     "name": "stderr",
     "output_type": "stream",
     "text": [
      "[nltk_data] Downloading package stopwords to /home/ivan/nltk_data...\n",
      "[nltk_data]   Package stopwords is already up-to-date!\n"
     ]
    },
    {
     "data": {
      "text/plain": [
       "True"
      ]
     },
     "execution_count": 1,
     "metadata": {},
     "output_type": "execute_result"
    }
   ],
   "source": [
    "import nltk\n",
    "import sklearn\n",
    "import sys\n",
    "\n",
    "sys.path.insert(0, '..')\n",
    "\n",
    "nltk.download('stopwords')"
   ]
  },
  {
   "cell_type": "markdown",
   "metadata": {
    "ExecuteTime": {
     "end_time": "2019-12-12T12:27:18.056592Z",
     "start_time": "2019-12-12T12:27:18.052758Z"
    }
   },
   "source": [
    "## Ler TEC e montar documentos"
   ]
  },
  {
   "cell_type": "code",
   "execution_count": 5,
   "metadata": {
    "ExecuteTime": {
     "end_time": "2019-12-12T12:33:04.352526Z",
     "start_time": "2019-12-12T12:33:04.328093Z"
    }
   },
   "outputs": [
    {
     "name": "stdout",
     "output_type": "stream",
     "text": [
      "['\\n', '\\n', '\\n', '\\n', '\\n', '\\n', '\\n', '\\n', '\\n', '\\n', '\\n', '\\n', '\\n', '\\n', '\\n', 'NOMENCLATURA COMUM DO MERCOSUL (NCM)\\n', 'E TARIFA EXTERNA COMUM (TEC)\\n', 'BRASIL \\n', '2 0 1 7\\n', 'Atualizada até a Resolução Camex nº 15 de 17/02/2017 (DOU 21/02/2017)\\n', '\\n', '(Baseada no Sistema Harmonizado de Designação e de \\n', 'Codificação de Mercadorias, atualizado com sua VI Emenda)\\n', '\\n', '\\n', '\\n', '\\n', '\\n', '\\n', '\\n', '\\n', '\\n', '\\n', '\\n', '\\n', 'CONTEÚDO\\n', '\\n', '\\n', '\\n', '\\n', 'Títulos de Seções e Capítulos\\n', 'Abreviaturas e Símbolos\\n', 'Regras Gerais para Interpretação do Sistema Harmonizado\\n', 'Regras Gerais Complementares\\n', 'Regra de Tributação para Produtos do Setor Aeronáutico\\n', 'Nomenclatura Comum do MERCOSUL (NCM) e Regime Tarifário Comum\\n', '\\n', '\\n', '\\n', '\\n', '\\n', '\\n', '\\n', '\\n', '\\n', 'Notas.\\n', '\\n', 'Na Nomenclatura, os termos e expressões seguidos de um asterisco e que constam entre parênteses, são equivalentes aos que precedem, e são utilizados nos demais países de língua portuguesa.\\n', '\\n', 'BK\\tNa Nomenclatura, esta sigla identifica as mercadorias definidas como Bens de Capital.\\n']\n"
     ]
    }
   ],
   "source": [
    "import batch.processtec as pt\n",
    "\n",
    "listaTEC = pt.leTEC()\n",
    "print(listaTEC[:60])"
   ]
  },
  {
   "cell_type": "code",
   "execution_count": 10,
   "metadata": {
    "ExecuteTime": {
     "end_time": "2019-12-12T12:35:36.560742Z",
     "start_time": "2019-12-12T12:35:36.481436Z"
    }
   },
   "outputs": [
    {
     "name": "stdout",
     "output_type": "stream",
     "text": [
      "['01.01', 'Cavalos, asininos e muares, vivos.', '']\n",
      "['0101.2', '-\\tCavalos:', '']\n",
      "['0101.21.00', '--\\tReprodutores de raça pura', '0']\n",
      "['0101.29.00', '--\\tOutros', '2']\n",
      "['0101.30.00', '-\\tAsininos', '4']\n",
      "['0101.90.00', '-\\tOutros', '4']\n",
      "['01.02', 'Animais vivos da espécie bovina.', '']\n",
      "['0102.2', '-\\tBovinos domésticos:', '']\n",
      "['0102.21', '--\\tReprodutores de raça pura', '']\n",
      "['0102.21.10', 'Prenhes ou com cria ao pé', '0']\n"
     ]
    }
   ],
   "source": [
    "listaNCM = pt.montaNCM(listaTEC)\n",
    "for itemTEC in listaNCM[:10]:\n",
    "    print(itemTEC)"
   ]
  },
  {
   "cell_type": "code",
   "execution_count": 11,
   "metadata": {
    "ExecuteTime": {
     "end_time": "2019-12-12T12:36:04.902097Z",
     "start_time": "2019-12-12T12:36:04.128906Z"
    }
   },
   "outputs": [
    {
     "name": "stdout",
     "output_type": "stream",
     "text": [
      "0101.21.00 --\tReprodutores de raça pura -\tCavalos: Cavalos, asininos e muares, vivos.\n",
      "0101.29.00 --\tOutros -\tCavalos: Cavalos, asininos e muares, vivos.\n",
      "0101.30.00 -\tAsininos Cavalos, asininos e muares, vivos.\n",
      "0101.90.00 -\tOutros Cavalos, asininos e muares, vivos.\n",
      "0102.21.10 Prenhes ou com cria ao pé --\tReprodutores de raça pura -\tBovinos domésticos: Animais vivos da espécie bovina.\n",
      "0102.21.90 Outros --\tReprodutores de raça pura -\tBovinos domésticos: Animais vivos da espécie bovina.\n",
      "0102.29.11 Prenhes ou com cria ao pé Para reprodução --\tOutros -\tBovinos domésticos: Animais vivos da espécie bovina.\n",
      "0102.29.19 Outros Para reprodução --\tOutros -\tBovinos domésticos: Animais vivos da espécie bovina.\n",
      "0102.29.90 Outros --\tOutros -\tBovinos domésticos: Animais vivos da espécie bovina.\n",
      "0102.31.10 Prenhes ou com cria ao pé --\tReprodutores de raça pura -\tBúfalos: Animais vivos da espécie bovina.\n"
     ]
    }
   ],
   "source": [
    "listaTECResumo = pt.montaTECResumo(listaNCM)\n",
    "for itemTEC_descricao_completa in listaTECResumo[:10]:\n",
    "    print(itemTEC_descricao_completa)"
   ]
  },
  {
   "cell_type": "code",
   "execution_count": 30,
   "metadata": {
    "ExecuteTime": {
     "end_time": "2019-12-12T12:51:41.351211Z",
     "start_time": "2019-12-12T12:51:36.885727Z"
    }
   },
   "outputs": [],
   "source": [
    "corpus = []\n",
    "\n",
    "for itemTEC_descricao_completa in listaTECResumo:\n",
    "    documento = pt.tokenize_to_words(itemTEC_descricao_completa)\n",
    "    corpus.append(' '.join(documento[1:]))"
   ]
  },
  {
   "cell_type": "code",
   "execution_count": 36,
   "metadata": {
    "ExecuteTime": {
     "end_time": "2019-12-12T12:52:49.576618Z",
     "start_time": "2019-12-12T12:52:49.567400Z"
    }
   },
   "outputs": [
    {
     "data": {
      "text/plain": [
       "['reprodutores raca pura cavalos cavalos asininos muares vivos',\n",
       " 'outros cavalos cavalos asininos muares vivos',\n",
       " 'asininos cavalos asininos muares vivos',\n",
       " 'outros cavalos asininos muares vivos',\n",
       " 'prenhes cria reprodutores raca pura bovinos domesticos animais vivos especie bovina',\n",
       " 'outros reprodutores raca pura bovinos domesticos animais vivos especie bovina',\n",
       " 'prenhes cria para reproducao outros bovinos domesticos animais vivos especie bovina',\n",
       " 'outros para reproducao outros bovinos domesticos animais vivos especie bovina',\n",
       " 'outros outros bovinos domesticos animais vivos especie bovina',\n",
       " 'prenhes cria reprodutores raca pura bufalos animais vivos especie bovina',\n",
       " 'outros reprodutores raca pura bufalos animais vivos especie bovina',\n",
       " 'prenhes cria para reproducao outros bufalos animais vivos especie bovina',\n",
       " 'outros para reproducao outros bufalos animais vivos especie bovina',\n",
       " 'outros outros bufalos animais vivos especie bovina',\n",
       " 'outros animais vivos especie bovina',\n",
       " 'reprodutores raca pura animais vivos especie suina',\n",
       " 'de peso inferior 50 kg outros animais vivos especie suina',\n",
       " 'de peso igual superior 50 kg outros animais vivos especie suina',\n",
       " 'prenhes cria reprodutores raca pura ovinos animais vivos especies ovina caprina',\n",
       " 'outros reprodutores raca pura ovinos animais vivos especies ovina caprina',\n",
       " 'outros ovinos animais vivos especies ovina caprina',\n",
       " 'reprodutores raca pura caprinos animais vivos especies ovina caprina',\n",
       " 'outros caprinos animais vivos especies ovina caprina',\n",
       " 'linhas puras hibridas reproducao aves especie gallus domesticus de peso superior aves especie gallus domesticus patos gansos perus peruas galinhas d angola pintadas especies domesticas vivos',\n",
       " 'outros aves especie gallus domesticus de peso superior aves especie gallus domesticus patos gansos perus peruas galinhas d angola pintadas especies domesticas vivos',\n",
       " 'peruas perus de peso superior aves especie gallus domesticus patos gansos perus peruas galinhas d angola pintadas especies domesticas vivos',\n",
       " 'patos de peso superior aves especie gallus domesticus patos gansos perus peruas galinhas d angola pintadas especies domesticas vivos',\n",
       " 'gansos de peso superior aves especie gallus domesticus patos gansos perus peruas galinhas d angola pintadas especies domesticas vivos',\n",
       " 'galinhas d angola pintadas de peso superior aves especie gallus domesticus patos gansos perus peruas galinhas d angola pintadas especies domesticas vivos',\n",
       " 'aves especie gallus domesticus outros aves especie gallus domesticus patos gansos perus peruas galinhas d angola pintadas especies domesticas vivos',\n",
       " 'outros outros aves especie gallus domesticus patos gansos perus peruas galinhas d angola pintadas especies domesticas vivos',\n",
       " 'primatas mamiferos outros animais vivos',\n",
       " 'baleias golfinhos botos mamiferos ordem cetacea peixes boi manatins dugongos mamiferos ordem sirenia otarias focas leoes marinhos morsas mamiferos subordem pinnipedia mamiferos outros animais vivos',\n",
       " 'camelos outros camelideos camelidae mamiferos outros animais vivos',\n",
       " 'coelhos lebres mamiferos outros animais vivos',\n",
       " 'outros mamiferos outros animais vivos',\n",
       " 'repteis incluindo serpentes tartarugas marinhas outros animais vivos',\n",
       " 'aves rapina aves outros animais vivos',\n",
       " 'psitaciformes incluindo papagaios periquitos araras catatuas aves outros animais vivos',\n",
       " 'avestruzes struthio camelus reproducao avestruzes emus dromaius novaehollandiae aves outros animais vivos',\n",
       " 'outros avestruzes emus dromaius novaehollandiae aves outros animais vivos',\n",
       " 'outras aves outros animais vivos',\n",
       " 'abelhas insetos outros animais vivos',\n",
       " 'outros insetos outros animais vivos',\n",
       " 'outros outros animais vivos',\n",
       " 'carcacas meias carcacas carnes animais especie bovina frescas refrigeradas',\n",
       " 'quartos dianteiros outras pecas desossadas carnes animais especie bovina frescas refrigeradas',\n",
       " 'quartos traseiros outras pecas desossadas carnes animais especie bovina frescas refrigeradas',\n",
       " 'outras outras pecas desossadas carnes animais especie bovina frescas refrigeradas',\n",
       " 'desossadas carnes animais especie bovina frescas refrigeradas',\n",
       " 'carcacas meias carcacas carnes animais especie bovina congeladas',\n",
       " 'quartos dianteiros outras pecas desossadas carnes animais especie bovina congeladas',\n",
       " 'quartos traseiros outras pecas desossadas carnes animais especie bovina congeladas',\n",
       " 'outras outras pecas desossadas carnes animais especie bovina congeladas',\n",
       " 'desossadas carnes animais especie bovina congeladas',\n",
       " 'carcacas meias carcacas frescas refrigeradas carnes animais especie suina frescas refrigeradas congeladas',\n",
       " 'pernas respectivos pedacos desossados frescas refrigeradas carnes animais especie suina frescas refrigeradas congeladas',\n",
       " 'outras frescas refrigeradas carnes animais especie suina frescas refrigeradas congeladas',\n",
       " 'carcacas meias carcacas congeladas carnes animais especie suina frescas refrigeradas congeladas',\n",
       " 'pernas respectivos pedacos desossados congeladas carnes animais especie suina frescas refrigeradas congeladas',\n",
       " 'outras congeladas carnes animais especie suina frescas refrigeradas congeladas',\n",
       " 'carcacas meias carcacas cordeiro frescas refrigeradas carnes animais especies ovina caprina frescas refrigeradas congeladas',\n",
       " 'carcacas meias carcacas outras carnes animais especie ovina frescas refrigeradas carnes animais especies ovina caprina frescas refrigeradas congeladas',\n",
       " 'outras pecas desossadas outras carnes animais especie ovina frescas refrigeradas carnes animais especies ovina caprina frescas refrigeradas congeladas',\n",
       " 'desossadas outras carnes animais especie ovina frescas refrigeradas carnes animais especies ovina caprina frescas refrigeradas congeladas',\n",
       " 'carcacas meias carcacas cordeiro congeladas carnes animais especies ovina caprina frescas refrigeradas congeladas',\n",
       " 'carcacas meias carcacas outras carnes animais especie ovina congeladas carnes animais especies ovina caprina frescas refrigeradas congeladas',\n",
       " 'outras pecas desossadas outras carnes animais especie ovina congeladas carnes animais especies ovina caprina frescas refrigeradas congeladas',\n",
       " 'desossadas outras carnes animais especie ovina congeladas carnes animais especies ovina caprina frescas refrigeradas congeladas',\n",
       " 'carnes animais especie caprina carnes animais especies ovina caprina frescas refrigeradas congeladas',\n",
       " 'carnes animais especies cavalar asinina muar frescas refrigeradas congeladas',\n",
       " 'da especie bovina frescas refrigeradas miudezas comestiveis animais especies bovina suina ovina caprina cavalar asinina muar frescas refrigeradas congeladas',\n",
       " 'linguas da especie bovina congeladas miudezas comestiveis animais especies bovina suina ovina caprina cavalar asinina muar frescas refrigeradas congeladas',\n",
       " 'figados da especie bovina congeladas miudezas comestiveis animais especies bovina suina ovina caprina cavalar asinina muar frescas refrigeradas congeladas',\n",
       " 'rabos outras da especie bovina congeladas miudezas comestiveis animais especies bovina suina ovina caprina cavalar asinina muar frescas refrigeradas congeladas',\n",
       " 'outros outras da especie bovina congeladas miudezas comestiveis animais especies bovina suina ovina caprina cavalar asinina muar frescas refrigeradas congeladas',\n",
       " 'da especie suina frescas refrigeradas miudezas comestiveis animais especies bovina suina ovina caprina cavalar asinina muar frescas refrigeradas congeladas',\n",
       " 'figados da especie suina congeladas miudezas comestiveis animais especies bovina suina ovina caprina cavalar asinina muar frescas refrigeradas congeladas',\n",
       " 'outras da especie suina congeladas miudezas comestiveis animais especies bovina suina ovina caprina cavalar asinina muar frescas refrigeradas congeladas',\n",
       " 'outras frescas refrigeradas miudezas comestiveis animais especies bovina suina ovina caprina cavalar asinina muar frescas refrigeradas congeladas',\n",
       " 'outras congeladas miudezas comestiveis animais especies bovina suina ovina caprina cavalar asinina muar frescas refrigeradas congeladas',\n",
       " 'nao cortadas pedacos frescas refrigeradas de aves especie gallus domesticus carnes miudezas comestiveis frescas refrigeradas congeladas aves posicao 01 05',\n",
       " 'nao cortadas pedacos congeladas de aves especie gallus domesticus carnes miudezas comestiveis frescas refrigeradas congeladas aves posicao 01 05',\n",
       " 'pedacos miudezas frescos refrigerados de aves especie gallus domesticus carnes miudezas comestiveis frescas refrigeradas congeladas aves posicao 01 05',\n",
       " 'pedacos miudezas congelados de aves especie gallus domesticus carnes miudezas comestiveis frescas refrigeradas congeladas aves posicao 01 05',\n",
       " 'nao cortadas pedacos frescas refrigeradas de peruas perus carnes miudezas comestiveis frescas refrigeradas congeladas aves posicao 01 05',\n",
       " 'nao cortadas pedacos congeladas de peruas perus carnes miudezas comestiveis frescas refrigeradas congeladas aves posicao 01 05',\n",
       " 'pedacos miudezas frescos refrigerados de peruas perus carnes miudezas comestiveis frescas refrigeradas congeladas aves posicao 01 05',\n",
       " 'pedacos miudezas congelados de peruas perus carnes miudezas comestiveis frescas refrigeradas congeladas aves posicao 01 05',\n",
       " 'nao cortadas pedacos frescas refrigeradas de patos carnes miudezas comestiveis frescas refrigeradas congeladas aves posicao 01 05',\n",
       " 'nao cortadas pedacos congeladas de patos carnes miudezas comestiveis frescas refrigeradas congeladas aves posicao 01 05',\n",
       " 'figados gordos foies gras frescos refrigerados de patos carnes miudezas comestiveis frescas refrigeradas congeladas aves posicao 01 05',\n",
       " 'outras frescas refrigeradas de patos carnes miudezas comestiveis frescas refrigeradas congeladas aves posicao 01 05',\n",
       " 'outras congeladas de patos carnes miudezas comestiveis frescas refrigeradas congeladas aves posicao 01 05',\n",
       " 'nao cortadas pedacos frescas refrigeradas de gansos carnes miudezas comestiveis frescas refrigeradas congeladas aves posicao 01 05',\n",
       " 'nao cortadas pedacos congeladas de gansos carnes miudezas comestiveis frescas refrigeradas congeladas aves posicao 01 05',\n",
       " 'figados gordos foies gras frescos refrigerados de gansos carnes miudezas comestiveis frescas refrigeradas congeladas aves posicao 01 05',\n",
       " 'outras frescas refrigeradas de gansos carnes miudezas comestiveis frescas refrigeradas congeladas aves posicao 01 05',\n",
       " 'outras congeladas de gansos carnes miudezas comestiveis frescas refrigeradas congeladas aves posicao 01 05',\n",
       " 'de galinhas d angola pintadas carnes miudezas comestiveis frescas refrigeradas congeladas aves posicao 01 05']"
      ]
     },
     "execution_count": 36,
     "metadata": {},
     "output_type": "execute_result"
    }
   ],
   "source": [
    "corpus[:100]"
   ]
  },
  {
   "cell_type": "code",
   "execution_count": 32,
   "metadata": {
    "ExecuteTime": {
     "end_time": "2019-12-12T12:51:47.141630Z",
     "start_time": "2019-12-12T12:51:47.095576Z"
    }
   },
   "outputs": [
    {
     "name": "stdout",
     "output_type": "stream",
     "text": [
      "['Capítulo 1', 'Animais vivos', '1.-\\tO presente Capítulo compreende todos os animais vivos, exceto:\\n\\na)\\tPeixes e crustáceos, moluscos e outros invertebrados aquáticos, das posições 03.01, 03.06, 03.07 ou 03.08;\\n\\nb)\\tCulturas de microrganismos e os outros produtos da posição 30.02;\\n\\nc)\\tAnimais da posição 95.08.\\n\\n']\n",
      "['Capítulo 2', 'Carnes e miudezas, comestíveis', '1.-\\tO presente Capítulo não compreende:\\n\\na)\\tNo que diz respeito às posições 02.01 a 02.08 e 02.10, os produtos impróprios para alimentação humana;\\n\\nb)\\tAs tripas, bexigas e estômagos, de animais (posição 05.04), nem o sangue animal (posições 05.11 ou 30.02);\\n\\nc)\\tAs gorduras animais, exceto os produtos da posição 02.09 (Capítulo 15).\\n\\n']\n",
      "['Capítulo 3', 'Peixes e crustáceos, moluscos e \\n outros invertebrados aquáticos', '1.-\\tO presente Capítulo não compreende:\\n\\na)\\tOs mamíferos da posição 01.06;\\n\\nb)\\tAs carnes dos mamíferos da posição 01.06 (posições 02.08 ou 02.10);\\n\\nc)\\tOs peixes (incluindo os seus fígados, ovas e gônadas masculinas) e crustáceos, moluscos e outros invertebrados aquáticos, mortos e impróprios para alimentação humana, seja pela sua natureza, seja pelo seu estado de apresentação (Capítulo 5); as farinhas, pós e pellets de peixes ou de crustáceos, de moluscos ou de outros invertebrados aquáticos, impróprios para alimentação humana (posição 23.01);\\n\\nd)\\tO caviar e seus sucedâneos preparados a partir de ovas de peixe (posição 16.04).\\n\\n2.-\\tNo presente Capítulo, o termo \\x93pellets\\x94 designa os produtos apresentados sob a forma de cilindros, bolas, etc., aglomerados quer por simples pressão, quer pela adição de um aglutinante em pequena quantidade.\\n\\n']\n"
     ]
    }
   ],
   "source": [
    "listaCapitulos = pt.montaCapitulos(listaTEC)\n",
    "for capitulo in listaCapitulos[:3]:\n",
    "    print(capitulo)"
   ]
  },
  {
   "cell_type": "markdown",
   "metadata": {},
   "source": [
    "## Usar sklearn para montar o DTM"
   ]
  },
  {
   "cell_type": "code",
   "execution_count": 44,
   "metadata": {
    "ExecuteTime": {
     "end_time": "2019-12-12T12:56:21.417095Z",
     "start_time": "2019-12-12T12:56:21.195020Z"
    }
   },
   "outputs": [],
   "source": [
    "from sklearn.feature_extraction.text import CountVectorizer\n",
    "\n",
    "vectorizer = CountVectorizer(analyzer='word')\n",
    "\n",
    "\n",
    "X = vectorizer.fit_transform(corpus)"
   ]
  },
  {
   "cell_type": "code",
   "execution_count": 45,
   "metadata": {
    "ExecuteTime": {
     "end_time": "2019-12-12T12:56:21.890780Z",
     "start_time": "2019-12-12T12:56:21.872498Z"
    }
   },
   "outputs": [
    {
     "data": {
      "text/plain": [
       "9369"
      ]
     },
     "execution_count": 45,
     "metadata": {},
     "output_type": "execute_result"
    }
   ],
   "source": [
    "len(vectorizer.get_feature_names())"
   ]
  },
  {
   "cell_type": "code",
   "execution_count": 51,
   "metadata": {
    "ExecuteTime": {
     "end_time": "2019-12-12T12:57:03.929783Z",
     "start_time": "2019-12-12T12:57:03.726329Z"
    }
   },
   "outputs": [
    {
     "data": {
      "text/plain": [
       "(10147, 9369)"
      ]
     },
     "execution_count": 51,
     "metadata": {},
     "output_type": "execute_result"
    }
   ],
   "source": [
    "X.toarray().shape"
   ]
  },
  {
   "cell_type": "code",
   "execution_count": 52,
   "metadata": {
    "ExecuteTime": {
     "end_time": "2019-12-12T12:57:33.073028Z",
     "start_time": "2019-12-12T12:57:33.065091Z"
    }
   },
   "outputs": [
    {
     "data": {
      "text/plain": [
       "10147"
      ]
     },
     "execution_count": 52,
     "metadata": {},
     "output_type": "execute_result"
    }
   ],
   "source": [
    "len(corpus)"
   ]
  },
  {
   "cell_type": "code",
   "execution_count": 53,
   "metadata": {
    "ExecuteTime": {
     "end_time": "2019-12-12T12:57:46.709744Z",
     "start_time": "2019-12-12T12:57:46.685807Z"
    }
   },
   "outputs": [
    {
     "data": {
      "text/plain": [
       "['00',\n",
       " '000',\n",
       " '002',\n",
       " '01',\n",
       " '012',\n",
       " '017241',\n",
       " '02',\n",
       " '025',\n",
       " '0283',\n",
       " '03',\n",
       " '030',\n",
       " '0302',\n",
       " '0303',\n",
       " '0328',\n",
       " '035',\n",
       " '04',\n",
       " '05',\n",
       " '06',\n",
       " '07',\n",
       " '075',\n",
       " '08',\n",
       " '09',\n",
       " '10',\n",
       " '100',\n",
       " '1003',\n",
       " '105',\n",
       " '106',\n",
       " '11',\n",
       " '112',\n",
       " '12',\n",
       " '120',\n",
       " '1238',\n",
       " '125',\n",
       " '13',\n",
       " '130',\n",
       " '14',\n",
       " '140',\n",
       " '143',\n",
       " '15',\n",
       " '150',\n",
       " '1500',\n",
       " '15019',\n",
       " '1544',\n",
       " '155',\n",
       " '16',\n",
       " '165',\n",
       " '17',\n",
       " '170',\n",
       " '18',\n",
       " '180',\n",
       " '184',\n",
       " '19',\n",
       " '190',\n",
       " '192',\n",
       " '195',\n",
       " '198',\n",
       " '1h',\n",
       " '20',\n",
       " '200',\n",
       " '2008',\n",
       " '205',\n",
       " '21',\n",
       " '210',\n",
       " '22',\n",
       " '225',\n",
       " '229',\n",
       " '23',\n",
       " '232',\n",
       " '234',\n",
       " '24',\n",
       " '240',\n",
       " '25',\n",
       " '250',\n",
       " '2517',\n",
       " '254',\n",
       " '255',\n",
       " '26',\n",
       " '27',\n",
       " '275',\n",
       " '28',\n",
       " '280',\n",
       " '2844',\n",
       " '29',\n",
       " '2905',\n",
       " '2930',\n",
       " '2934',\n",
       " '297',\n",
       " '2h',\n",
       " '30',\n",
       " '300',\n",
       " '3002',\n",
       " '3003',\n",
       " '3004',\n",
       " '3046',\n",
       " '31',\n",
       " '312',\n",
       " '315',\n",
       " '32',\n",
       " '3204',\n",
       " '33',\n",
       " '34',\n",
       " '3402',\n",
       " '3405',\n",
       " '35',\n",
       " '353',\n",
       " '355',\n",
       " '36',\n",
       " '360',\n",
       " '37',\n",
       " '375',\n",
       " '3755',\n",
       " '38',\n",
       " '3808',\n",
       " '3811',\n",
       " '387',\n",
       " '39',\n",
       " '399',\n",
       " '40',\n",
       " '400',\n",
       " '4005',\n",
       " '406',\n",
       " '41',\n",
       " '412',\n",
       " '42',\n",
       " '420',\n",
       " '43',\n",
       " '430',\n",
       " '435',\n",
       " '44',\n",
       " '4412',\n",
       " '447',\n",
       " '448',\n",
       " '45',\n",
       " '450',\n",
       " '454',\n",
       " '46',\n",
       " '47',\n",
       " '48',\n",
       " '4811',\n",
       " '484',\n",
       " '49',\n",
       " '50',\n",
       " '500',\n",
       " '51',\n",
       " '52',\n",
       " '520',\n",
       " '53',\n",
       " '54',\n",
       " '55',\n",
       " '550',\n",
       " '56',\n",
       " '560',\n",
       " '57',\n",
       " '58',\n",
       " '580',\n",
       " '59',\n",
       " '60',\n",
       " '600',\n",
       " '6061',\n",
       " '609',\n",
       " '61',\n",
       " '610',\n",
       " '62',\n",
       " '6201',\n",
       " '6202',\n",
       " '63',\n",
       " '64',\n",
       " '65',\n",
       " '650',\n",
       " '66',\n",
       " '68',\n",
       " '69',\n",
       " '6903',\n",
       " '6907',\n",
       " '70',\n",
       " '700',\n",
       " '71',\n",
       " '714',\n",
       " '72',\n",
       " '73',\n",
       " '74',\n",
       " '75',\n",
       " '750',\n",
       " '76',\n",
       " '760',\n",
       " '80',\n",
       " '800',\n",
       " '81',\n",
       " '82',\n",
       " '83',\n",
       " '84',\n",
       " '8412',\n",
       " '8413',\n",
       " '8419',\n",
       " '8421',\n",
       " '8423',\n",
       " '8424',\n",
       " '8425',\n",
       " '8430',\n",
       " '8442',\n",
       " '8443',\n",
       " '8447',\n",
       " '8450',\n",
       " '8451',\n",
       " '8456',\n",
       " '8462',\n",
       " '8470',\n",
       " '8471',\n",
       " '8472',\n",
       " '8473',\n",
       " '8481',\n",
       " '85',\n",
       " '8501',\n",
       " '8504',\n",
       " '8523',\n",
       " '8525',\n",
       " '8526',\n",
       " '8543',\n",
       " '86',\n",
       " '8606',\n",
       " '87',\n",
       " '8701',\n",
       " '8704',\n",
       " '88',\n",
       " '89',\n",
       " '8901',\n",
       " '90',\n",
       " '900',\n",
       " '9010',\n",
       " '9011',\n",
       " '9015',\n",
       " '9030',\n",
       " '91',\n",
       " '92',\n",
       " '93',\n",
       " '94',\n",
       " '940',\n",
       " '95',\n",
       " '9503',\n",
       " '9504',\n",
       " '96',\n",
       " '960',\n",
       " '9603',\n",
       " '9608',\n",
       " '97',\n",
       " '98',\n",
       " '99',\n",
       " 'aba',\n",
       " 'abaca',\n",
       " 'abacates',\n",
       " 'abacavir',\n",
       " 'abacaxi',\n",
       " 'abacaxis',\n",
       " 'abajures',\n",
       " 'abalones',\n",
       " 'abelha',\n",
       " 'abelhas',\n",
       " 'abertas',\n",
       " 'abertos',\n",
       " 'abertura',\n",
       " 'abeto',\n",
       " 'abies',\n",
       " 'abietatos',\n",
       " 'aboboras',\n",
       " 'abobrinhas',\n",
       " 'abotoaduras',\n",
       " 'abrangido',\n",
       " 'abrasivos',\n",
       " 'abre',\n",
       " 'abridoras',\n",
       " 'abrigos',\n",
       " 'abrir',\n",
       " 'abrotea',\n",
       " 'abroteas',\n",
       " 'abrunhos',\n",
       " 'abs',\n",
       " 'absolutos',\n",
       " 'absorcao',\n",
       " 'absorvente',\n",
       " 'absorventes',\n",
       " 'absorver',\n",
       " 'absorvido',\n",
       " 'absorviveis',\n",
       " 'acabadas',\n",
       " 'acabados',\n",
       " 'acabamento',\n",
       " 'acabar',\n",
       " 'acafrao',\n",
       " 'acai',\n",
       " 'acampamento',\n",
       " 'acampar',\n",
       " 'acamurcados',\n",
       " 'acanthistius',\n",
       " 'acao',\n",
       " 'acaricidas',\n",
       " 'acefato',\n",
       " 'acelerador',\n",
       " 'aceleradores',\n",
       " 'acendedores',\n",
       " 'acer',\n",
       " 'acerola',\n",
       " 'acesso',\n",
       " 'acessoria',\n",
       " 'acessoriamente',\n",
       " 'acessorios',\n",
       " 'acetais',\n",
       " 'acetaldeido',\n",
       " 'acetamidas',\n",
       " 'acetamidobenzenossulfonico',\n",
       " 'acetamidobenzoico',\n",
       " 'acetaminofen',\n",
       " 'acetanilida',\n",
       " 'acetato',\n",
       " 'acetatos',\n",
       " 'acetico',\n",
       " 'acetilacetato',\n",
       " 'acetilacetona',\n",
       " 'acetilantranilico',\n",
       " 'acetileno',\n",
       " 'acetilsalicilato',\n",
       " 'acetilsalicilico',\n",
       " 'acetoacetamida',\n",
       " 'acetobutanoato',\n",
       " 'acetofenona',\n",
       " 'acetona',\n",
       " 'acetonida',\n",
       " 'acetonilacetona',\n",
       " 'acetoxi',\n",
       " 'acetoxifenil',\n",
       " 'acetoxima',\n",
       " 'aciaria',\n",
       " 'aciclicas',\n",
       " 'aciclicos',\n",
       " 'aciclovir',\n",
       " 'acidificados',\n",
       " 'acido',\n",
       " 'acidos',\n",
       " 'acidulados',\n",
       " 'acifluorfen',\n",
       " 'acima',\n",
       " 'acionado',\n",
       " 'acionados',\n",
       " 'acionamento',\n",
       " 'acionar',\n",
       " 'acipenser',\n",
       " 'aco',\n",
       " 'acoes',\n",
       " 'acolchoados',\n",
       " 'acondicionadas',\n",
       " 'acondicionado',\n",
       " 'acondicionados',\n",
       " 'acondicionamento',\n",
       " 'acondicionamentos',\n",
       " 'acondicionar',\n",
       " 'acopladores',\n",
       " 'acoplamento',\n",
       " 'acoplamentos',\n",
       " 'acordeoes',\n",
       " 'acordo',\n",
       " 'acos',\n",
       " 'acougue',\n",
       " 'acrilamida',\n",
       " 'acrilamidas',\n",
       " 'acrilamidico',\n",
       " 'acrilato',\n",
       " 'acrilicas',\n",
       " 'acrilico',\n",
       " 'acrilicos',\n",
       " 'acrilonitrila',\n",
       " 'acrilonitrilo',\n",
       " 'acth',\n",
       " 'actinomicinas',\n",
       " 'active',\n",
       " 'acucar',\n",
       " 'acucares',\n",
       " 'acumulacao',\n",
       " 'acumuladores',\n",
       " 'acustica',\n",
       " 'acusticas',\n",
       " 'acustico',\n",
       " 'adaptacao',\n",
       " 'adelgacado',\n",
       " 'adequadas',\n",
       " 'aderencia',\n",
       " 'adesiva',\n",
       " 'adesivas',\n",
       " 'adesivos',\n",
       " 'adicao',\n",
       " 'adicionada',\n",
       " 'adicionadas',\n",
       " 'adicionado',\n",
       " 'adicionados',\n",
       " 'adicional',\n",
       " 'adipico',\n",
       " 'adiponitrila',\n",
       " 'aditivos',\n",
       " 'administrada',\n",
       " 'administrados',\n",
       " 'admissao',\n",
       " 'adubadores',\n",
       " 'adubos',\n",
       " 'aductos',\n",
       " 'aduelas',\n",
       " 'adzuki',\n",
       " 'ae7',\n",
       " 'aed',\n",
       " 'aeglefinus',\n",
       " 'aerados',\n",
       " 'aerea',\n",
       " 'aereo',\n",
       " 'aereos',\n",
       " 'aerodromos',\n",
       " 'aerogel',\n",
       " 'aerograficas',\n",
       " 'aerogramas',\n",
       " 'aeronaves',\n",
       " 'aeroportos',\n",
       " 'aerossois',\n",
       " 'aerossol',\n",
       " 'aerossolterapia',\n",
       " 'aesculus',\n",
       " 'afeccoes',\n",
       " 'afericao',\n",
       " 'afiadores',\n",
       " 'afiar',\n",
       " 'afinacao',\n",
       " 'afinado',\n",
       " 'aftosa',\n",
       " 'agar',\n",
       " 'agarbate',\n",
       " 'agaricus',\n",
       " 'agarrar',\n",
       " 'agasalhos',\n",
       " 'agave',\n",
       " 'agendas',\n",
       " 'agentes',\n",
       " 'agitar',\n",
       " 'aglomerada',\n",
       " 'aglomeradas',\n",
       " 'aglomerado',\n",
       " 'aglomerados',\n",
       " 'aglomerante',\n",
       " 'aglomerar',\n",
       " 'aglutinante',\n",
       " 'aglutinantes',\n",
       " 'agrafadores',\n",
       " 'agrafados',\n",
       " 'agregados',\n",
       " 'agricola',\n",
       " 'agricolas',\n",
       " 'agricultura',\n",
       " 'agriculture',\n",
       " 'agrimensura',\n",
       " 'agua',\n",
       " 'aguabonita',\n",
       " 'aguardente',\n",
       " 'aguardentes',\n",
       " 'aguarras',\n",
       " 'aguas',\n",
       " 'agucadas',\n",
       " 'agulha',\n",
       " 'agulhados',\n",
       " 'agulhas',\n",
       " 'ainda',\n",
       " 'aipo',\n",
       " 'airbags',\n",
       " 'airela',\n",
       " 'airelas',\n",
       " 'aisi',\n",
       " 'ajustaveis',\n",
       " 'ajustavel',\n",
       " 'al2o3',\n",
       " 'alabastro',\n",
       " 'alabotes',\n",
       " 'alaclor',\n",
       " 'alalunga',\n",
       " 'alamo',\n",
       " 'alan',\n",
       " 'alargada',\n",
       " 'alargadeiras',\n",
       " 'alarme',\n",
       " 'alarmes',\n",
       " 'alasca',\n",
       " 'alavancas',\n",
       " 'albacares',\n",
       " 'albacora',\n",
       " 'albendazol',\n",
       " 'albumina',\n",
       " 'albuminas',\n",
       " 'albuminatos',\n",
       " 'albuns',\n",
       " 'albus',\n",
       " 'alcachofras',\n",
       " 'alcacuz',\n",
       " 'alcalinas',\n",
       " 'alcalino',\n",
       " 'alcalinos',\n",
       " 'alcaloides',\n",
       " 'alcaravia',\n",
       " 'alcas']"
      ]
     },
     "execution_count": 53,
     "metadata": {},
     "output_type": "execute_result"
    }
   ],
   "source": [
    "vectorizer.get_feature_names()[:500]"
   ]
  },
  {
   "cell_type": "code",
   "execution_count": 54,
   "metadata": {
    "ExecuteTime": {
     "end_time": "2019-12-12T12:58:04.291902Z",
     "start_time": "2019-12-12T12:58:04.284059Z"
    }
   },
   "outputs": [
    {
     "data": {
      "text/plain": [
       "array([[0, 0, 0, ..., 0, 0, 0],\n",
       "       [0, 0, 0, ..., 0, 0, 0],\n",
       "       [0, 0, 0, ..., 0, 0, 0],\n",
       "       ...,\n",
       "       [0, 0, 0, ..., 0, 0, 0],\n",
       "       [0, 0, 0, ..., 0, 0, 0],\n",
       "       [0, 0, 0, ..., 0, 0, 0]])"
      ]
     },
     "execution_count": 54,
     "metadata": {},
     "output_type": "execute_result"
    }
   ],
   "source": [
    "X[:10].toarray()"
   ]
  },
  {
   "cell_type": "code",
   "execution_count": 56,
   "metadata": {
    "ExecuteTime": {
     "end_time": "2019-12-12T12:59:53.143298Z",
     "start_time": "2019-12-12T12:59:53.108670Z"
    }
   },
   "outputs": [],
   "source": [
    "from sklearn.feature_extraction.text import TfidfTransformer\n",
    "\n",
    "tfid = TfidfTransformer()\n",
    "\n",
    "Xtfid = tfid.fit_transform(X)"
   ]
  },
  {
   "cell_type": "code",
   "execution_count": 57,
   "metadata": {
    "ExecuteTime": {
     "end_time": "2019-12-12T12:59:59.456869Z",
     "start_time": "2019-12-12T12:59:59.446423Z"
    }
   },
   "outputs": [
    {
     "data": {
      "text/plain": [
       "<10147x9369 sparse matrix of type '<class 'numpy.float64'>'\n",
       "\twith 180484 stored elements in Compressed Sparse Row format>"
      ]
     },
     "execution_count": 57,
     "metadata": {},
     "output_type": "execute_result"
    }
   ],
   "source": [
    "Xtfid"
   ]
  },
  {
   "cell_type": "code",
   "execution_count": 58,
   "metadata": {
    "ExecuteTime": {
     "end_time": "2019-12-12T13:00:12.735801Z",
     "start_time": "2019-12-12T13:00:12.727263Z"
    }
   },
   "outputs": [
    {
     "data": {
      "text/plain": [
       "array([[0., 0., 0., ..., 0., 0., 0.],\n",
       "       [0., 0., 0., ..., 0., 0., 0.],\n",
       "       [0., 0., 0., ..., 0., 0., 0.],\n",
       "       ...,\n",
       "       [0., 0., 0., ..., 0., 0., 0.],\n",
       "       [0., 0., 0., ..., 0., 0., 0.],\n",
       "       [0., 0., 0., ..., 0., 0., 0.]])"
      ]
     },
     "execution_count": 58,
     "metadata": {},
     "output_type": "execute_result"
    }
   ],
   "source": [
    "Xtfid[:10].toarray()"
   ]
  },
  {
   "cell_type": "code",
   "execution_count": null,
   "metadata": {},
   "outputs": [],
   "source": []
  }
 ],
 "metadata": {
  "kernelspec": {
   "display_name": "tfidf-venv",
   "language": "python",
   "name": "tfidf-venv"
  },
  "language_info": {
   "codemirror_mode": {
    "name": "ipython",
    "version": 3
   },
   "file_extension": ".py",
   "mimetype": "text/x-python",
   "name": "python",
   "nbconvert_exporter": "python",
   "pygments_lexer": "ipython3",
   "version": "3.6.9"
  }
 },
 "nbformat": 4,
 "nbformat_minor": 2
}
